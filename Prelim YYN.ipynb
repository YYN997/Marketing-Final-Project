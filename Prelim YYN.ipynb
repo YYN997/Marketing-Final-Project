{
 "cells": [
  {
   "cell_type": "markdown",
   "id": "a71758b0",
   "metadata": {},
   "source": [
    "## 1. subscribers"
   ]
  },
  {
   "cell_type": "code",
   "execution_count": 151,
   "id": "659acd32",
   "metadata": {},
   "outputs": [],
   "source": [
    "import pandas as pd\n",
    "import matplotlib.pyplot as plt\n",
    "import numpy as np"
   ]
  },
  {
   "cell_type": "code",
   "execution_count": 62,
   "id": "dc6a481e",
   "metadata": {
    "collapsed": true
   },
   "outputs": [
    {
     "data": {
      "text/html": [
       "<div>\n",
       "<style scoped>\n",
       "    .dataframe tbody tr th:only-of-type {\n",
       "        vertical-align: middle;\n",
       "    }\n",
       "\n",
       "    .dataframe tbody tr th {\n",
       "        vertical-align: top;\n",
       "    }\n",
       "\n",
       "    .dataframe thead th {\n",
       "        text-align: right;\n",
       "    }\n",
       "</style>\n",
       "<table border=\"1\" class=\"dataframe\">\n",
       "  <thead>\n",
       "    <tr style=\"text-align: right;\">\n",
       "      <th></th>\n",
       "      <th>Unnamed: 0</th>\n",
       "      <th>subid</th>\n",
       "      <th>package_type</th>\n",
       "      <th>num_weekly_services_utilized</th>\n",
       "      <th>preferred_genre</th>\n",
       "      <th>intended_use</th>\n",
       "      <th>weekly_consumption_hour</th>\n",
       "      <th>num_ideal_streaming_services</th>\n",
       "      <th>age</th>\n",
       "      <th>male_TF</th>\n",
       "      <th>...</th>\n",
       "      <th>join_fee</th>\n",
       "      <th>language</th>\n",
       "      <th>payment_type</th>\n",
       "      <th>num_trial_days</th>\n",
       "      <th>current_sub_TF</th>\n",
       "      <th>payment_period</th>\n",
       "      <th>last_payment</th>\n",
       "      <th>next_payment</th>\n",
       "      <th>cancel_date</th>\n",
       "      <th>trial_completed</th>\n",
       "    </tr>\n",
       "  </thead>\n",
       "  <tbody>\n",
       "    <tr>\n",
       "      <th>0</th>\n",
       "      <td>162502</td>\n",
       "      <td>21724479</td>\n",
       "      <td>economy</td>\n",
       "      <td>NaN</td>\n",
       "      <td>comedy</td>\n",
       "      <td>access to exclusive content</td>\n",
       "      <td>NaN</td>\n",
       "      <td>NaN</td>\n",
       "      <td>NaN</td>\n",
       "      <td>False</td>\n",
       "      <td>...</td>\n",
       "      <td>NaN</td>\n",
       "      <td>ar</td>\n",
       "      <td>Standard Charter</td>\n",
       "      <td>14</td>\n",
       "      <td>True</td>\n",
       "      <td>1</td>\n",
       "      <td>2020-02-07 21:44:16</td>\n",
       "      <td>2020-06-07 21:44:16</td>\n",
       "      <td>NaN</td>\n",
       "      <td>True</td>\n",
       "    </tr>\n",
       "    <tr>\n",
       "      <th>1</th>\n",
       "      <td>380374</td>\n",
       "      <td>23383224</td>\n",
       "      <td>base</td>\n",
       "      <td>NaN</td>\n",
       "      <td>comedy</td>\n",
       "      <td>access to exclusive content</td>\n",
       "      <td>22.951579</td>\n",
       "      <td>NaN</td>\n",
       "      <td>70.0</td>\n",
       "      <td>False</td>\n",
       "      <td>...</td>\n",
       "      <td>0.3303</td>\n",
       "      <td>ar</td>\n",
       "      <td>NaN</td>\n",
       "      <td>14</td>\n",
       "      <td>True</td>\n",
       "      <td>1</td>\n",
       "      <td>2020-03-15 15:44:35</td>\n",
       "      <td>2020-07-15 15:44:35</td>\n",
       "      <td>NaN</td>\n",
       "      <td>True</td>\n",
       "    </tr>\n",
       "    <tr>\n",
       "      <th>2</th>\n",
       "      <td>496617</td>\n",
       "      <td>26844789</td>\n",
       "      <td>enhanced</td>\n",
       "      <td>3.0</td>\n",
       "      <td>regional</td>\n",
       "      <td>replace OTT</td>\n",
       "      <td>36.001186</td>\n",
       "      <td>2.0</td>\n",
       "      <td>25.0</td>\n",
       "      <td>True</td>\n",
       "      <td>...</td>\n",
       "      <td>0.1101</td>\n",
       "      <td>ar</td>\n",
       "      <td>NaN</td>\n",
       "      <td>14</td>\n",
       "      <td>False</td>\n",
       "      <td>0</td>\n",
       "      <td>NaN</td>\n",
       "      <td>NaN</td>\n",
       "      <td>NaN</td>\n",
       "      <td>True</td>\n",
       "    </tr>\n",
       "    <tr>\n",
       "      <th>3</th>\n",
       "      <td>356799</td>\n",
       "      <td>29417030</td>\n",
       "      <td>base</td>\n",
       "      <td>NaN</td>\n",
       "      <td>drama</td>\n",
       "      <td>replace OTT</td>\n",
       "      <td>20.051667</td>\n",
       "      <td>NaN</td>\n",
       "      <td>30.0</td>\n",
       "      <td>False</td>\n",
       "      <td>...</td>\n",
       "      <td>0.0367</td>\n",
       "      <td>ar</td>\n",
       "      <td>NaN</td>\n",
       "      <td>14</td>\n",
       "      <td>False</td>\n",
       "      <td>0</td>\n",
       "      <td>NaN</td>\n",
       "      <td>NaN</td>\n",
       "      <td>NaN</td>\n",
       "      <td>True</td>\n",
       "    </tr>\n",
       "    <tr>\n",
       "      <th>4</th>\n",
       "      <td>681701</td>\n",
       "      <td>26723159</td>\n",
       "      <td>base</td>\n",
       "      <td>4.0</td>\n",
       "      <td>comedy</td>\n",
       "      <td>replace OTT</td>\n",
       "      <td>22.951579</td>\n",
       "      <td>3.0</td>\n",
       "      <td>28.0</td>\n",
       "      <td>False</td>\n",
       "      <td>...</td>\n",
       "      <td>0.0367</td>\n",
       "      <td>ar</td>\n",
       "      <td>NaN</td>\n",
       "      <td>14</td>\n",
       "      <td>True</td>\n",
       "      <td>2</td>\n",
       "      <td>2020-02-19 12:57:07</td>\n",
       "      <td>2020-06-19 12:57:07</td>\n",
       "      <td>NaN</td>\n",
       "      <td>True</td>\n",
       "    </tr>\n",
       "  </tbody>\n",
       "</table>\n",
       "<p>5 rows × 31 columns</p>\n",
       "</div>"
      ],
      "text/plain": [
       "   Unnamed: 0     subid package_type  num_weekly_services_utilized  \\\n",
       "0      162502  21724479      economy                           NaN   \n",
       "1      380374  23383224         base                           NaN   \n",
       "2      496617  26844789     enhanced                           3.0   \n",
       "3      356799  29417030         base                           NaN   \n",
       "4      681701  26723159         base                           4.0   \n",
       "\n",
       "  preferred_genre                 intended_use  weekly_consumption_hour  \\\n",
       "0          comedy  access to exclusive content                      NaN   \n",
       "1          comedy  access to exclusive content                22.951579   \n",
       "2        regional                  replace OTT                36.001186   \n",
       "3           drama                  replace OTT                20.051667   \n",
       "4          comedy                  replace OTT                22.951579   \n",
       "\n",
       "   num_ideal_streaming_services   age male_TF  ... join_fee language  \\\n",
       "0                           NaN   NaN   False  ...      NaN       ar   \n",
       "1                           NaN  70.0   False  ...   0.3303       ar   \n",
       "2                           2.0  25.0    True  ...   0.1101       ar   \n",
       "3                           NaN  30.0   False  ...   0.0367       ar   \n",
       "4                           3.0  28.0   False  ...   0.0367       ar   \n",
       "\n",
       "       payment_type num_trial_days  current_sub_TF payment_period  \\\n",
       "0  Standard Charter             14            True              1   \n",
       "1               NaN             14            True              1   \n",
       "2               NaN             14           False              0   \n",
       "3               NaN             14           False              0   \n",
       "4               NaN             14            True              2   \n",
       "\n",
       "          last_payment         next_payment cancel_date trial_completed  \n",
       "0  2020-02-07 21:44:16  2020-06-07 21:44:16         NaN            True  \n",
       "1  2020-03-15 15:44:35  2020-07-15 15:44:35         NaN            True  \n",
       "2                  NaN                  NaN         NaN            True  \n",
       "3                  NaN                  NaN         NaN            True  \n",
       "4  2020-02-19 12:57:07  2020-06-19 12:57:07         NaN            True  \n",
       "\n",
       "[5 rows x 31 columns]"
      ]
     },
     "execution_count": 62,
     "metadata": {},
     "output_type": "execute_result"
    }
   ],
   "source": [
    "df = pd.read_csv(\"subscribers.csv\")\n",
    "df.head()"
   ]
  },
  {
   "cell_type": "code",
   "execution_count": 63,
   "id": "93b4b93f",
   "metadata": {},
   "outputs": [],
   "source": [
    "df.drop('Unnamed: 0', axis=1, inplace=True)"
   ]
  },
  {
   "cell_type": "code",
   "execution_count": 5,
   "id": "85213da2",
   "metadata": {
    "collapsed": true
   },
   "outputs": [
    {
     "data": {
      "text/html": [
       "<div>\n",
       "<style scoped>\n",
       "    .dataframe tbody tr th:only-of-type {\n",
       "        vertical-align: middle;\n",
       "    }\n",
       "\n",
       "    .dataframe tbody tr th {\n",
       "        vertical-align: top;\n",
       "    }\n",
       "\n",
       "    .dataframe thead th {\n",
       "        text-align: right;\n",
       "    }\n",
       "</style>\n",
       "<table border=\"1\" class=\"dataframe\">\n",
       "  <thead>\n",
       "    <tr style=\"text-align: right;\">\n",
       "      <th></th>\n",
       "      <th>subid</th>\n",
       "      <th>package_type</th>\n",
       "      <th>num_weekly_services_utilized</th>\n",
       "      <th>preferred_genre</th>\n",
       "      <th>intended_use</th>\n",
       "      <th>weekly_consumption_hour</th>\n",
       "      <th>num_ideal_streaming_services</th>\n",
       "      <th>age</th>\n",
       "      <th>male_TF</th>\n",
       "      <th>country</th>\n",
       "      <th>...</th>\n",
       "      <th>join_fee</th>\n",
       "      <th>language</th>\n",
       "      <th>payment_type</th>\n",
       "      <th>num_trial_days</th>\n",
       "      <th>current_sub_TF</th>\n",
       "      <th>payment_period</th>\n",
       "      <th>last_payment</th>\n",
       "      <th>next_payment</th>\n",
       "      <th>cancel_date</th>\n",
       "      <th>trial_completed</th>\n",
       "    </tr>\n",
       "  </thead>\n",
       "  <tbody>\n",
       "    <tr>\n",
       "      <th>0</th>\n",
       "      <td>21724479</td>\n",
       "      <td>economy</td>\n",
       "      <td>NaN</td>\n",
       "      <td>comedy</td>\n",
       "      <td>access to exclusive content</td>\n",
       "      <td>NaN</td>\n",
       "      <td>NaN</td>\n",
       "      <td>NaN</td>\n",
       "      <td>False</td>\n",
       "      <td>UAE</td>\n",
       "      <td>...</td>\n",
       "      <td>NaN</td>\n",
       "      <td>ar</td>\n",
       "      <td>Standard Charter</td>\n",
       "      <td>14</td>\n",
       "      <td>True</td>\n",
       "      <td>1</td>\n",
       "      <td>2020-02-07 21:44:16</td>\n",
       "      <td>2020-06-07 21:44:16</td>\n",
       "      <td>NaN</td>\n",
       "      <td>True</td>\n",
       "    </tr>\n",
       "    <tr>\n",
       "      <th>1</th>\n",
       "      <td>23383224</td>\n",
       "      <td>base</td>\n",
       "      <td>NaN</td>\n",
       "      <td>comedy</td>\n",
       "      <td>access to exclusive content</td>\n",
       "      <td>22.951579</td>\n",
       "      <td>NaN</td>\n",
       "      <td>70.0</td>\n",
       "      <td>False</td>\n",
       "      <td>UAE</td>\n",
       "      <td>...</td>\n",
       "      <td>0.3303</td>\n",
       "      <td>ar</td>\n",
       "      <td>NaN</td>\n",
       "      <td>14</td>\n",
       "      <td>True</td>\n",
       "      <td>1</td>\n",
       "      <td>2020-03-15 15:44:35</td>\n",
       "      <td>2020-07-15 15:44:35</td>\n",
       "      <td>NaN</td>\n",
       "      <td>True</td>\n",
       "    </tr>\n",
       "    <tr>\n",
       "      <th>2</th>\n",
       "      <td>26844789</td>\n",
       "      <td>enhanced</td>\n",
       "      <td>3.0</td>\n",
       "      <td>regional</td>\n",
       "      <td>replace OTT</td>\n",
       "      <td>36.001186</td>\n",
       "      <td>2.0</td>\n",
       "      <td>25.0</td>\n",
       "      <td>True</td>\n",
       "      <td>UAE</td>\n",
       "      <td>...</td>\n",
       "      <td>0.1101</td>\n",
       "      <td>ar</td>\n",
       "      <td>NaN</td>\n",
       "      <td>14</td>\n",
       "      <td>False</td>\n",
       "      <td>0</td>\n",
       "      <td>NaN</td>\n",
       "      <td>NaN</td>\n",
       "      <td>NaN</td>\n",
       "      <td>True</td>\n",
       "    </tr>\n",
       "    <tr>\n",
       "      <th>3</th>\n",
       "      <td>29417030</td>\n",
       "      <td>base</td>\n",
       "      <td>NaN</td>\n",
       "      <td>drama</td>\n",
       "      <td>replace OTT</td>\n",
       "      <td>20.051667</td>\n",
       "      <td>NaN</td>\n",
       "      <td>30.0</td>\n",
       "      <td>False</td>\n",
       "      <td>UAE</td>\n",
       "      <td>...</td>\n",
       "      <td>0.0367</td>\n",
       "      <td>ar</td>\n",
       "      <td>NaN</td>\n",
       "      <td>14</td>\n",
       "      <td>False</td>\n",
       "      <td>0</td>\n",
       "      <td>NaN</td>\n",
       "      <td>NaN</td>\n",
       "      <td>NaN</td>\n",
       "      <td>True</td>\n",
       "    </tr>\n",
       "    <tr>\n",
       "      <th>4</th>\n",
       "      <td>26723159</td>\n",
       "      <td>base</td>\n",
       "      <td>4.0</td>\n",
       "      <td>comedy</td>\n",
       "      <td>replace OTT</td>\n",
       "      <td>22.951579</td>\n",
       "      <td>3.0</td>\n",
       "      <td>28.0</td>\n",
       "      <td>False</td>\n",
       "      <td>UAE</td>\n",
       "      <td>...</td>\n",
       "      <td>0.0367</td>\n",
       "      <td>ar</td>\n",
       "      <td>NaN</td>\n",
       "      <td>14</td>\n",
       "      <td>True</td>\n",
       "      <td>2</td>\n",
       "      <td>2020-02-19 12:57:07</td>\n",
       "      <td>2020-06-19 12:57:07</td>\n",
       "      <td>NaN</td>\n",
       "      <td>True</td>\n",
       "    </tr>\n",
       "    <tr>\n",
       "      <th>...</th>\n",
       "      <td>...</td>\n",
       "      <td>...</td>\n",
       "      <td>...</td>\n",
       "      <td>...</td>\n",
       "      <td>...</td>\n",
       "      <td>...</td>\n",
       "      <td>...</td>\n",
       "      <td>...</td>\n",
       "      <td>...</td>\n",
       "      <td>...</td>\n",
       "      <td>...</td>\n",
       "      <td>...</td>\n",
       "      <td>...</td>\n",
       "      <td>...</td>\n",
       "      <td>...</td>\n",
       "      <td>...</td>\n",
       "      <td>...</td>\n",
       "      <td>...</td>\n",
       "      <td>...</td>\n",
       "      <td>...</td>\n",
       "      <td>...</td>\n",
       "    </tr>\n",
       "    <tr>\n",
       "      <th>227623</th>\n",
       "      <td>21434712</td>\n",
       "      <td>enhanced</td>\n",
       "      <td>3.0</td>\n",
       "      <td>comedy</td>\n",
       "      <td>supplement OTT</td>\n",
       "      <td>28.751405</td>\n",
       "      <td>2.0</td>\n",
       "      <td>38.0</td>\n",
       "      <td>False</td>\n",
       "      <td>UAE</td>\n",
       "      <td>...</td>\n",
       "      <td>0.3303</td>\n",
       "      <td>ar</td>\n",
       "      <td>NaN</td>\n",
       "      <td>14</td>\n",
       "      <td>True</td>\n",
       "      <td>1</td>\n",
       "      <td>2019-12-01 14:12:33</td>\n",
       "      <td>2020-04-01 14:12:33</td>\n",
       "      <td>NaN</td>\n",
       "      <td>True</td>\n",
       "    </tr>\n",
       "    <tr>\n",
       "      <th>227624</th>\n",
       "      <td>25843074</td>\n",
       "      <td>enhanced</td>\n",
       "      <td>2.0</td>\n",
       "      <td>comedy</td>\n",
       "      <td>replace OTT</td>\n",
       "      <td>27.301448</td>\n",
       "      <td>2.0</td>\n",
       "      <td>49.0</td>\n",
       "      <td>False</td>\n",
       "      <td>UAE</td>\n",
       "      <td>...</td>\n",
       "      <td>0.3303</td>\n",
       "      <td>ar</td>\n",
       "      <td>Paypal</td>\n",
       "      <td>14</td>\n",
       "      <td>True</td>\n",
       "      <td>1</td>\n",
       "      <td>2019-12-20 18:02:13</td>\n",
       "      <td>2020-04-20 18:02:13</td>\n",
       "      <td>NaN</td>\n",
       "      <td>True</td>\n",
       "    </tr>\n",
       "    <tr>\n",
       "      <th>227625</th>\n",
       "      <td>24799085</td>\n",
       "      <td>base</td>\n",
       "      <td>NaN</td>\n",
       "      <td>comedy</td>\n",
       "      <td>access to exclusive content</td>\n",
       "      <td>31.651317</td>\n",
       "      <td>NaN</td>\n",
       "      <td>45.0</td>\n",
       "      <td>False</td>\n",
       "      <td>UAE</td>\n",
       "      <td>...</td>\n",
       "      <td>0.0367</td>\n",
       "      <td>ar</td>\n",
       "      <td>NaN</td>\n",
       "      <td>14</td>\n",
       "      <td>True</td>\n",
       "      <td>1</td>\n",
       "      <td>2020-01-04 19:40:44</td>\n",
       "      <td>2020-05-04 19:40:44</td>\n",
       "      <td>NaN</td>\n",
       "      <td>True</td>\n",
       "    </tr>\n",
       "    <tr>\n",
       "      <th>227626</th>\n",
       "      <td>21308040</td>\n",
       "      <td>base</td>\n",
       "      <td>NaN</td>\n",
       "      <td>comedy</td>\n",
       "      <td>access to exclusive content</td>\n",
       "      <td>NaN</td>\n",
       "      <td>NaN</td>\n",
       "      <td>NaN</td>\n",
       "      <td>False</td>\n",
       "      <td>UAE</td>\n",
       "      <td>...</td>\n",
       "      <td>NaN</td>\n",
       "      <td>ar</td>\n",
       "      <td>Paypal</td>\n",
       "      <td>14</td>\n",
       "      <td>True</td>\n",
       "      <td>1</td>\n",
       "      <td>2020-01-31 23:58:51</td>\n",
       "      <td>2020-05-31 23:58:51</td>\n",
       "      <td>NaN</td>\n",
       "      <td>True</td>\n",
       "    </tr>\n",
       "    <tr>\n",
       "      <th>227627</th>\n",
       "      <td>20166335</td>\n",
       "      <td>base</td>\n",
       "      <td>NaN</td>\n",
       "      <td>comedy</td>\n",
       "      <td>replace OTT</td>\n",
       "      <td>25.851492</td>\n",
       "      <td>NaN</td>\n",
       "      <td>55.0</td>\n",
       "      <td>False</td>\n",
       "      <td>UAE</td>\n",
       "      <td>...</td>\n",
       "      <td>0.0367</td>\n",
       "      <td>ar</td>\n",
       "      <td>NaN</td>\n",
       "      <td>14</td>\n",
       "      <td>False</td>\n",
       "      <td>0</td>\n",
       "      <td>NaN</td>\n",
       "      <td>NaN</td>\n",
       "      <td>2019-12-09 00:00:00</td>\n",
       "      <td>False</td>\n",
       "    </tr>\n",
       "  </tbody>\n",
       "</table>\n",
       "<p>227628 rows × 30 columns</p>\n",
       "</div>"
      ],
      "text/plain": [
       "           subid package_type  num_weekly_services_utilized preferred_genre  \\\n",
       "0       21724479      economy                           NaN          comedy   \n",
       "1       23383224         base                           NaN          comedy   \n",
       "2       26844789     enhanced                           3.0        regional   \n",
       "3       29417030         base                           NaN           drama   \n",
       "4       26723159         base                           4.0          comedy   \n",
       "...          ...          ...                           ...             ...   \n",
       "227623  21434712     enhanced                           3.0          comedy   \n",
       "227624  25843074     enhanced                           2.0          comedy   \n",
       "227625  24799085         base                           NaN          comedy   \n",
       "227626  21308040         base                           NaN          comedy   \n",
       "227627  20166335         base                           NaN          comedy   \n",
       "\n",
       "                       intended_use  weekly_consumption_hour  \\\n",
       "0       access to exclusive content                      NaN   \n",
       "1       access to exclusive content                22.951579   \n",
       "2                       replace OTT                36.001186   \n",
       "3                       replace OTT                20.051667   \n",
       "4                       replace OTT                22.951579   \n",
       "...                             ...                      ...   \n",
       "227623               supplement OTT                28.751405   \n",
       "227624                  replace OTT                27.301448   \n",
       "227625  access to exclusive content                31.651317   \n",
       "227626  access to exclusive content                      NaN   \n",
       "227627                  replace OTT                25.851492   \n",
       "\n",
       "        num_ideal_streaming_services   age male_TF country  ... join_fee  \\\n",
       "0                                NaN   NaN   False     UAE  ...      NaN   \n",
       "1                                NaN  70.0   False     UAE  ...   0.3303   \n",
       "2                                2.0  25.0    True     UAE  ...   0.1101   \n",
       "3                                NaN  30.0   False     UAE  ...   0.0367   \n",
       "4                                3.0  28.0   False     UAE  ...   0.0367   \n",
       "...                              ...   ...     ...     ...  ...      ...   \n",
       "227623                           2.0  38.0   False     UAE  ...   0.3303   \n",
       "227624                           2.0  49.0   False     UAE  ...   0.3303   \n",
       "227625                           NaN  45.0   False     UAE  ...   0.0367   \n",
       "227626                           NaN   NaN   False     UAE  ...      NaN   \n",
       "227627                           NaN  55.0   False     UAE  ...   0.0367   \n",
       "\n",
       "       language      payment_type  num_trial_days current_sub_TF  \\\n",
       "0            ar  Standard Charter              14           True   \n",
       "1            ar               NaN              14           True   \n",
       "2            ar               NaN              14          False   \n",
       "3            ar               NaN              14          False   \n",
       "4            ar               NaN              14           True   \n",
       "...         ...               ...             ...            ...   \n",
       "227623       ar               NaN              14           True   \n",
       "227624       ar            Paypal              14           True   \n",
       "227625       ar               NaN              14           True   \n",
       "227626       ar            Paypal              14           True   \n",
       "227627       ar               NaN              14          False   \n",
       "\n",
       "        payment_period         last_payment         next_payment  \\\n",
       "0                    1  2020-02-07 21:44:16  2020-06-07 21:44:16   \n",
       "1                    1  2020-03-15 15:44:35  2020-07-15 15:44:35   \n",
       "2                    0                  NaN                  NaN   \n",
       "3                    0                  NaN                  NaN   \n",
       "4                    2  2020-02-19 12:57:07  2020-06-19 12:57:07   \n",
       "...                ...                  ...                  ...   \n",
       "227623               1  2019-12-01 14:12:33  2020-04-01 14:12:33   \n",
       "227624               1  2019-12-20 18:02:13  2020-04-20 18:02:13   \n",
       "227625               1  2020-01-04 19:40:44  2020-05-04 19:40:44   \n",
       "227626               1  2020-01-31 23:58:51  2020-05-31 23:58:51   \n",
       "227627               0                  NaN                  NaN   \n",
       "\n",
       "                cancel_date  trial_completed  \n",
       "0                       NaN             True  \n",
       "1                       NaN             True  \n",
       "2                       NaN             True  \n",
       "3                       NaN             True  \n",
       "4                       NaN             True  \n",
       "...                     ...              ...  \n",
       "227623                  NaN             True  \n",
       "227624                  NaN             True  \n",
       "227625                  NaN             True  \n",
       "227626                  NaN             True  \n",
       "227627  2019-12-09 00:00:00            False  \n",
       "\n",
       "[227628 rows x 30 columns]"
      ]
     },
     "execution_count": 5,
     "metadata": {},
     "output_type": "execute_result"
    }
   ],
   "source": [
    "df"
   ]
  },
  {
   "cell_type": "code",
   "execution_count": 55,
   "id": "a2fbda90",
   "metadata": {},
   "outputs": [],
   "source": [
    "df.fillna(0,inplace = True)"
   ]
  },
  {
   "cell_type": "code",
   "execution_count": 6,
   "id": "f73c68ff",
   "metadata": {},
   "outputs": [
    {
     "data": {
      "text/plain": [
       "Index(['subid', 'package_type', 'num_weekly_services_utilized',\n",
       "       'preferred_genre', 'intended_use', 'weekly_consumption_hour',\n",
       "       'num_ideal_streaming_services', 'age', 'male_TF', 'country',\n",
       "       'attribution_technical', 'attribution_survey', 'op_sys',\n",
       "       'months_per_bill_period', 'plan_type', 'monthly_price',\n",
       "       'discount_price', 'account_creation_date', 'trial_end_date',\n",
       "       'initial_credit_card_declined', 'join_fee', 'language', 'payment_type',\n",
       "       'num_trial_days', 'current_sub_TF', 'payment_period', 'last_payment',\n",
       "       'next_payment', 'cancel_date', 'trial_completed'],\n",
       "      dtype='object')"
      ]
     },
     "execution_count": 6,
     "metadata": {},
     "output_type": "execute_result"
    }
   ],
   "source": [
    "df.columns "
   ]
  },
  {
   "cell_type": "code",
   "execution_count": 40,
   "id": "b71f80b8",
   "metadata": {
    "collapsed": true
   },
   "outputs": [
    {
     "data": {
      "text/plain": [
       "21504004    1\n",
       "22278102    1\n",
       "29921210    1\n",
       "28346299    1\n",
       "20152260    1\n",
       "           ..\n",
       "27055308    1\n",
       "22863053    1\n",
       "21146474    1\n",
       "25916222    1\n",
       "24643583    1\n",
       "Name: subid, Length: 227628, dtype: int64"
      ]
     },
     "execution_count": 40,
     "metadata": {},
     "output_type": "execute_result"
    }
   ],
   "source": [
    "# unique id \n",
    "# match with total number\n",
    "df.subid.value_counts()"
   ]
  },
  {
   "cell_type": "code",
   "execution_count": 14,
   "id": "22d87081",
   "metadata": {},
   "outputs": [
    {
     "data": {
      "text/plain": [
       "base        111464\n",
       "enhanced     63241\n",
       "economy      17349\n",
       "Name: package_type, dtype: int64"
      ]
     },
     "execution_count": 14,
     "metadata": {},
     "output_type": "execute_result"
    }
   ],
   "source": [
    "df.package_type.value_counts()"
   ]
  },
  {
   "cell_type": "code",
   "execution_count": 21,
   "id": "96737d2c",
   "metadata": {},
   "outputs": [
    {
     "data": {
      "text/plain": [
       "comedy           125129\n",
       "drama             46872\n",
       "regional           8990\n",
       "international      6404\n",
       "other              3907\n",
       "Name: preferred_genre, dtype: int64"
      ]
     },
     "execution_count": 21,
     "metadata": {},
     "output_type": "execute_result"
    }
   ],
   "source": [
    "df.preferred_genre.value_counts()"
   ]
  },
  {
   "cell_type": "code",
   "execution_count": 22,
   "id": "7edf79a6",
   "metadata": {},
   "outputs": [
    {
     "data": {
      "text/plain": [
       "access to exclusive content    89039\n",
       "replace OTT                    69185\n",
       "supplement OTT                 26603\n",
       "expand regional access         14025\n",
       "expand international access    12978\n",
       "other                           7112\n",
       "education                       5137\n",
       "Name: intended_use, dtype: int64"
      ]
     },
     "execution_count": 22,
     "metadata": {},
     "output_type": "execute_result"
    }
   ],
   "source": [
    "df.intended_use.value_counts()"
   ]
  },
  {
   "cell_type": "code",
   "execution_count": 25,
   "id": "2f07c5c4",
   "metadata": {},
   "outputs": [
    {
     "data": {
      "text/plain": [
       " 25.851492    25990\n",
       " 28.751405    22947\n",
       " 27.301448    22551\n",
       " 24.401536    19968\n",
       " 30.201361    18366\n",
       "              ...  \n",
       " 26.045334        1\n",
       " 27.262765        1\n",
       "-4.597590         1\n",
       "-23.447022        1\n",
       " 24.843182        1\n",
       "Name: weekly_consumption_hour, Length: 81, dtype: int64"
      ]
     },
     "execution_count": 25,
     "metadata": {},
     "output_type": "execute_result"
    }
   ],
   "source": [
    "df.weekly_consumption_hour.value_counts()"
   ]
  },
  {
   "cell_type": "code",
   "execution_count": 152,
   "id": "ea2f6f8f",
   "metadata": {},
   "outputs": [
    {
     "data": {
      "text/plain": [
       "27.99772410829662"
      ]
     },
     "execution_count": 152,
     "metadata": {},
     "output_type": "execute_result"
    }
   ],
   "source": [
    "np.mean(df.weekly_consumption_hour)"
   ]
  },
  {
   "cell_type": "code",
   "execution_count": 49,
   "id": "2b83e536",
   "metadata": {},
   "outputs": [
    {
     "data": {
      "image/png": "[encoded data removed]",
      "text/plain": [
       "<Figure size 432x288 with 1 Axes>"
      ]
     },
     "metadata": {
      "needs_background": "light"
     },
     "output_type": "display_data"
    }
   ],
   "source": [
    "plt.hist(df['weekly_consumption_hour'])\n",
    "plt.xlabel('weekly_consumption_hour')\n",
    "plt.ylabel('num of people')\n",
    "plt.show()"
   ]
  },
  {
   "cell_type": "code",
   "execution_count": 42,
   "id": "34178a79",
   "metadata": {
    "collapsed": true
   },
   "outputs": [
    {
     "data": {
      "text/plain": [
       "10519     -8.947459\n",
       "15413     -4.597590\n",
       "15992     -8.947459\n",
       "29217     -0.247721\n",
       "33485    -11.847372\n",
       "33908    -10.397415\n",
       "36798     -7.497503\n",
       "43860    -10.397415\n",
       "46018     -7.497503\n",
       "54683    -10.397415\n",
       "81440     -8.947459\n",
       "92995    -13.297328\n",
       "99605    -10.397415\n",
       "103550    -0.247721\n",
       "103956   -10.397415\n",
       "120069    -8.947459\n",
       "128854   -23.447022\n",
       "139835   -11.847372\n",
       "149594   -32.146760\n",
       "150937   -27.796891\n",
       "156099    -8.947459\n",
       "156332   -29.246847\n",
       "180052   -11.847372\n",
       "188100   -29.246847\n",
       "190588   -11.847372\n",
       "201520   -29.246847\n",
       "208959    -8.947459\n",
       "209315   -29.246847\n",
       "227610    -8.947459\n",
       "Name: weekly_consumption_hour, dtype: float64"
      ]
     },
     "execution_count": 42,
     "metadata": {},
     "output_type": "execute_result"
    }
   ],
   "source": [
    "# number of television or movies consumed per week \n",
    "# 29 people entered negative value for weekly_consumption_hour\n",
    "filt_negative_hour = df['weekly_consumption_hour'] < 0\n",
    "df.loc[filt_negative_hour,'weekly_consumption_hour']"
   ]
  },
  {
   "cell_type": "code",
   "execution_count": 43,
   "id": "49885564",
   "metadata": {},
   "outputs": [
    {
     "data": {
      "text/plain": [
       "29"
      ]
     },
     "execution_count": 43,
     "metadata": {},
     "output_type": "execute_result"
    }
   ],
   "source": [
    "len(df.loc[filt_negative_hour,'weekly_consumption_hour'])"
   ]
  },
  {
   "cell_type": "code",
   "execution_count": 30,
   "id": "d2397278",
   "metadata": {},
   "outputs": [
    {
     "data": {
      "text/plain": [
       " 2.0    108245\n",
       " 3.0      7072\n",
       " 1.0        89\n",
       " 4.0        42\n",
       " 0.0         4\n",
       " 5.0         4\n",
       "-1.0         1\n",
       " 7.0         1\n",
       "Name: num_ideal_streaming_services, dtype: int64"
      ]
     },
     "execution_count": 30,
     "metadata": {},
     "output_type": "execute_result"
    }
   ],
   "source": [
    "# 1 subscriber's target number of services is -1 \n",
    "df.num_ideal_streaming_services.value_counts()"
   ]
  },
  {
   "cell_type": "code",
   "execution_count": 48,
   "id": "7dfa1785",
   "metadata": {},
   "outputs": [
    {
     "data": {
      "image/png": "[encoded data removed]",
      "text/plain": [
       "<Figure size 432x288 with 1 Axes>"
      ]
     },
     "metadata": {
      "needs_background": "light"
     },
     "output_type": "display_data"
    }
   ],
   "source": [
    "plt.hist(df['num_ideal_streaming_services'])\n",
    "plt.xlabel('num_ideal_streaming_services')\n",
    "plt.ylabel('num of people')\n",
    "plt.show()"
   ]
  },
  {
   "cell_type": "code",
   "execution_count": 50,
   "id": "670cd9ff",
   "metadata": {},
   "outputs": [
    {
     "data": {
      "text/plain": [
       "50.0        6355\n",
       "40.0        5509\n",
       "60.0        5221\n",
       "48.0        4651\n",
       "47.0        4517\n",
       "            ... \n",
       "11955.0        1\n",
       "360.0          1\n",
       "4217.0         1\n",
       "761943.0       1\n",
       "16.0           1\n",
       "Name: age, Length: 278, dtype: int64"
      ]
     },
     "execution_count": 50,
     "metadata": {},
     "output_type": "execute_result"
    }
   ],
   "source": [
    "# 888 subscribers entered age less than 0 or greater than 100\n",
    "# 761 of them input birth year as their age\n",
    "df.age.value_counts()"
   ]
  },
  {
   "cell_type": "code",
   "execution_count": null,
   "id": "ddf1e3da",
   "metadata": {},
   "outputs": [],
   "source": []
  },
  {
   "cell_type": "code",
   "execution_count": 65,
   "id": "c5b8fdb2",
   "metadata": {},
   "outputs": [
    {
     "data": {
      "text/plain": [
       "50.0        6355\n",
       "40.0        5509\n",
       "60.0        5221\n",
       "48.0        4651\n",
       "47.0        4517\n",
       "            ... \n",
       "11955.0        1\n",
       "360.0          1\n",
       "4217.0         1\n",
       "761943.0       1\n",
       "16.0           1\n",
       "Name: age, Length: 278, dtype: int64"
      ]
     },
     "execution_count": 65,
     "metadata": {},
     "output_type": "execute_result"
    }
   ],
   "source": [
    "df.age.value_counts()"
   ]
  },
  {
   "cell_type": "code",
   "execution_count": 59,
   "id": "ba6f7fa9",
   "metadata": {},
   "outputs": [
    {
     "data": {
      "text/plain": [
       "72        1955.0\n",
       "115       1950.0\n",
       "208       1957.0\n",
       "641       1969.0\n",
       "903        165.0\n",
       "           ...  \n",
       "226584    1962.0\n",
       "226659    1947.0\n",
       "226900    1956.0\n",
       "227331    1956.0\n",
       "227344    1936.0\n",
       "Name: age, Length: 888, dtype: float64"
      ]
     },
     "execution_count": 59,
     "metadata": {},
     "output_type": "execute_result"
    }
   ],
   "source": [
    "filt_age = ((df['age'] < 0) | (df['age'] > 100))\n",
    "df.loc[filt_age,'age']"
   ]
  },
  {
   "cell_type": "code",
   "execution_count": 60,
   "id": "3bafb427",
   "metadata": {},
   "outputs": [
    {
     "data": {
      "text/plain": [
       "888"
      ]
     },
     "execution_count": 60,
     "metadata": {},
     "output_type": "execute_result"
    }
   ],
   "source": [
    "len(df.loc[filt_age,'age'])"
   ]
  },
  {
   "cell_type": "code",
   "execution_count": 100,
   "id": "31df9bfc",
   "metadata": {},
   "outputs": [
    {
     "data": {
      "text/plain": [
       "72        1955.0\n",
       "115       1950.0\n",
       "208       1957.0\n",
       "641       1969.0\n",
       "1109      1961.0\n",
       "           ...  \n",
       "226584    1962.0\n",
       "226659    1947.0\n",
       "226900    1956.0\n",
       "227331    1956.0\n",
       "227344    1936.0\n",
       "Name: age, Length: 761, dtype: float64"
      ]
     },
     "execution_count": 100,
     "metadata": {},
     "output_type": "execute_result"
    }
   ],
   "source": [
    "filt_birth_year = ((df['age'] > 1921) & (df['age'] < 2021))\n",
    "df.loc[filt_birth_year,'age']"
   ]
  },
  {
   "cell_type": "code",
   "execution_count": null,
   "id": "c2a4ba80",
   "metadata": {},
   "outputs": [],
   "source": []
  },
  {
   "cell_type": "code",
   "execution_count": 67,
   "id": "4109baf2",
   "metadata": {},
   "outputs": [
    {
     "data": {
      "text/plain": [
       "False    200902\n",
       "True      26457\n",
       "Name: male_TF, dtype: int64"
      ]
     },
     "execution_count": 67,
     "metadata": {},
     "output_type": "execute_result"
    }
   ],
   "source": [
    "# There are 200902 female subscribers, 26457 male subscribers\n",
    "df.male_TF.value_counts()"
   ]
  },
  {
   "cell_type": "code",
   "execution_count": 68,
   "id": "dbb916a7",
   "metadata": {},
   "outputs": [
    {
     "data": {
      "text/plain": [
       "UAE    227628\n",
       "Name: country, dtype: int64"
      ]
     },
     "execution_count": 68,
     "metadata": {},
     "output_type": "execute_result"
    }
   ],
   "source": [
    "# All subscribers come from UAE (United Arab Emirates)\n",
    "df.country.value_counts()"
   ]
  },
  {
   "cell_type": "code",
   "execution_count": null,
   "id": "1ea0c63e",
   "metadata": {},
   "outputs": [],
   "source": []
  },
  {
   "cell_type": "code",
   "execution_count": 70,
   "id": "bea4347a",
   "metadata": {
    "collapsed": true
   },
   "outputs": [
    {
     "data": {
      "text/plain": [
       "facebook                   80251\n",
       "email                      25690\n",
       "search                     25306\n",
       "organic                    22013\n",
       "brand sem intent google    18524\n",
       "google_organic             10691\n",
       "affiliate                   9894\n",
       "email_blast                 7277\n",
       "pinterest                   6065\n",
       "referral                    5170\n",
       "facebook_organic            3272\n",
       "discovery                   2571\n",
       "brand sem intent bing       2231\n",
       "other                       1786\n",
       "display                     1407\n",
       "bing                        1146\n",
       "internal                    1122\n",
       "podcast                      985\n",
       "youtube                      913\n",
       "bing_organic                 369\n",
       "vod                          297\n",
       "ott                          158\n",
       "direct_mail                  139\n",
       "quora                        100\n",
       "samsung                       86\n",
       "criteo                        44\n",
       "appstore                      44\n",
       "pinterest_organic             30\n",
       "influencer                    21\n",
       "playstore                     12\n",
       "twitter                        5\n",
       "content_greatist               5\n",
       "tv                             4\n",
       "Name: attribution_technical, dtype: int64"
      ]
     },
     "execution_count": 70,
     "metadata": {},
     "output_type": "execute_result"
    }
   ],
   "source": [
    "df.attribution_technical.value_counts()"
   ]
  },
  {
   "cell_type": "code",
   "execution_count": 72,
   "id": "f6edde9f",
   "metadata": {},
   "outputs": [
    {
     "data": {
      "text/plain": [
       "facebook            119126\n",
       "tv                   39904\n",
       "referral             20882\n",
       "search                8492\n",
       "pinterest             7856\n",
       "other                 6496\n",
       "public_radio          6219\n",
       "social_organic        3869\n",
       "youtube               3108\n",
       "podcast               2995\n",
       "affiliate             1962\n",
       "ott                   1443\n",
       "sirius xm             1122\n",
       "facebook_organic       765\n",
       "direct_mail            408\n",
       "amfm_radio             337\n",
       "Name: attribution_survey, dtype: int64"
      ]
     },
     "execution_count": 72,
     "metadata": {},
     "output_type": "execute_result"
    }
   ],
   "source": [
    "df.attribution_survey.value_counts()"
   ]
  },
  {
   "cell_type": "code",
   "execution_count": 73,
   "id": "9ea7c79a",
   "metadata": {},
   "outputs": [
    {
     "data": {
      "text/plain": [
       "iOS        143921\n",
       "Android     70332\n",
       "Name: op_sys, dtype: int64"
      ]
     },
     "execution_count": 73,
     "metadata": {},
     "output_type": "execute_result"
    }
   ],
   "source": [
    "# operating system used for sign-up\n",
    "# 143921 subscribers use IOS system\n",
    "# 70332 subscribers use Android system\n",
    "df.op_sys.value_counts()"
   ]
  },
  {
   "cell_type": "code",
   "execution_count": 74,
   "id": "d677f3c9",
   "metadata": {},
   "outputs": [
    {
     "data": {
      "text/plain": [
       "4    227628\n",
       "Name: months_per_bill_period, dtype: int64"
      ]
     },
     "execution_count": 74,
     "metadata": {},
     "output_type": "execute_result"
    }
   ],
   "source": [
    "df.months_per_bill_period.value_counts()"
   ]
  },
  {
   "cell_type": "code",
   "execution_count": 75,
   "id": "532c803d",
   "metadata": {},
   "outputs": [
    {
     "data": {
      "text/plain": [
       "base_uae_14_day_trial                227096\n",
       "high_uae_14_day_trial                   325\n",
       "low_uae_no_trial                        167\n",
       "base_eur_14_day_trial                    18\n",
       "high_sar_14_day_trial                    12\n",
       "low_gbp_14_day_trial                      4\n",
       "high_aud_14_day_trial                     2\n",
       "low_sar_no_trial                          1\n",
       "high_jpy_14_day_trial                     1\n",
       "base_uae_no_trial_7_day_guarantee         1\n",
       "low_eur_no_trial                          1\n",
       "Name: plan_type, dtype: int64"
      ]
     },
     "execution_count": 75,
     "metadata": {},
     "output_type": "execute_result"
    }
   ],
   "source": [
    "df.plan_type.value_counts()"
   ]
  },
  {
   "cell_type": "code",
   "execution_count": 76,
   "id": "f88c1ff1",
   "metadata": {},
   "outputs": [
    {
     "data": {
      "text/plain": [
       "4.7343    227101\n",
       "5.1013       325\n",
       "1.0643       167\n",
       "4.4407        18\n",
       "4.3673        12\n",
       "4.0003         2\n",
       "0.8074         1\n",
       "1.1744         1\n",
       "4.6976         1\n",
       "Name: monthly_price, dtype: int64"
      ]
     },
     "execution_count": 76,
     "metadata": {},
     "output_type": "execute_result"
    }
   ],
   "source": [
    "df.monthly_price.value_counts()"
   ]
  },
  {
   "cell_type": "code",
   "execution_count": 77,
   "id": "42a1b558",
   "metadata": {},
   "outputs": [
    {
     "data": {
      "text/plain": [
       "4.5141    227096\n",
       "5.0279       325\n",
       "1.0276       167\n",
       "4.2205        18\n",
       "4.0737        12\n",
       "4.3673         4\n",
       "4.4407         2\n",
       "3.7801         2\n",
       "1.1744         1\n",
       "0.7707         1\n",
       "Name: discount_price, dtype: int64"
      ]
     },
     "execution_count": 77,
     "metadata": {},
     "output_type": "execute_result"
    }
   ],
   "source": [
    "df.discount_price.value_counts()"
   ]
  },
  {
   "cell_type": "code",
   "execution_count": 80,
   "id": "711dfc68",
   "metadata": {},
   "outputs": [
    {
     "data": {
      "text/plain": [
       " 0.0367    109482\n",
       " 0.0000     33482\n",
       " 0.3303     25314\n",
       " 0.6606     12282\n",
       " 0.1101     10648\n",
       " 0.3670      1333\n",
       " 0.1835       146\n",
       "-0.0367         9\n",
       " 0.6973         8\n",
       " 0.6239         6\n",
       " 0.0734         2\n",
       "-0.6606         2\n",
       " 0.2936         2\n",
       " 0.1468         2\n",
       " 0.4037         1\n",
       "-0.1101         1\n",
       "-0.3303         1\n",
       " 0.5872         1\n",
       " 0.7340         1\n",
       " 0.2569         1\n",
       "Name: join_fee, dtype: int64"
      ]
     },
     "execution_count": 80,
     "metadata": {},
     "output_type": "execute_result"
    }
   ],
   "source": [
    "df.join_fee.value_counts()"
   ]
  },
  {
   "cell_type": "code",
   "execution_count": 82,
   "id": "f6252108",
   "metadata": {},
   "outputs": [
    {
     "data": {
      "text/plain": [
       "Standard Charter    38810\n",
       "Paypal              30911\n",
       "RAKBANK             14831\n",
       "CBD                  5080\n",
       "Najim                2414\n",
       "Apple Pay               4\n",
       "Name: payment_type, dtype: int64"
      ]
     },
     "execution_count": 82,
     "metadata": {},
     "output_type": "execute_result"
    }
   ],
   "source": [
    "df.payment_type.value_counts()"
   ]
  },
  {
   "cell_type": "code",
   "execution_count": 83,
   "id": "99f6ec9f",
   "metadata": {},
   "outputs": [
    {
     "data": {
      "text/plain": [
       "14    227458\n",
       "0        170\n",
       "Name: num_trial_days, dtype: int64"
      ]
     },
     "execution_count": 83,
     "metadata": {},
     "output_type": "execute_result"
    }
   ],
   "source": [
    "df.num_trial_days.value_counts()"
   ]
  },
  {
   "cell_type": "code",
   "execution_count": 84,
   "id": "035dd20f",
   "metadata": {},
   "outputs": [
    {
     "data": {
      "text/plain": [
       "True     130250\n",
       "False     97378\n",
       "Name: current_sub_TF, dtype: int64"
      ]
     },
     "execution_count": 84,
     "metadata": {},
     "output_type": "execute_result"
    }
   ],
   "source": [
    "df.current_sub_TF.value_counts()"
   ]
  },
  {
   "cell_type": "code",
   "execution_count": 85,
   "id": "af4aa26c",
   "metadata": {},
   "outputs": [
    {
     "data": {
      "text/plain": [
       "0    95391\n",
       "1    86968\n",
       "2    42921\n",
       "3     2348\n",
       "Name: payment_period, dtype: int64"
      ]
     },
     "execution_count": 85,
     "metadata": {},
     "output_type": "execute_result"
    }
   ],
   "source": [
    "# trial subscribers payment period = 0\n",
    "# 95391 are trial subscribers\n",
    "# 86968 paid once already\n",
    "# 42921 paid twice already\n",
    "# 2348 paid the third times\n",
    "df.payment_period.value_counts()"
   ]
  },
  {
   "cell_type": "code",
   "execution_count": 88,
   "id": "196bd620",
   "metadata": {},
   "outputs": [
    {
     "data": {
      "text/plain": [
       "2019-07-13 00:00:00    431\n",
       "2019-07-12 00:00:00    396\n",
       "2019-07-14 00:00:00    384\n",
       "2019-07-15 00:00:00    348\n",
       "2019-07-11 00:00:00    321\n",
       "                      ... \n",
       "2020-04-08 00:00:00     24\n",
       "2020-04-06 00:00:00     22\n",
       "2019-07-02 00:00:00     19\n",
       "2020-04-09 00:00:00      6\n",
       "2019-07-01 00:00:00      5\n",
       "Name: cancel_date, Length: 284, dtype: int64"
      ]
     },
     "execution_count": 88,
     "metadata": {},
     "output_type": "execute_result"
    }
   ],
   "source": [
    "# 284 subscribers has requested cancellation \n",
    "df.cancel_date.value_counts()"
   ]
  },
  {
   "cell_type": "code",
   "execution_count": 69,
   "id": "028422ee",
   "metadata": {},
   "outputs": [
    {
     "data": {
      "text/plain": [
       "Index(['subid', 'package_type', 'num_weekly_services_utilized',\n",
       "       'preferred_genre', 'intended_use', 'weekly_consumption_hour',\n",
       "       'num_ideal_streaming_services', 'age', 'male_TF', 'country',\n",
       "       'attribution_technical', 'attribution_survey', 'op_sys',\n",
       "       'months_per_bill_period', 'plan_type', 'monthly_price',\n",
       "       'discount_price', 'account_creation_date', 'trial_end_date',\n",
       "       'initial_credit_card_declined', 'join_fee', 'language', 'payment_type',\n",
       "       'num_trial_days', 'current_sub_TF', 'payment_period', 'last_payment',\n",
       "       'next_payment', 'cancel_date', 'trial_completed'],\n",
       "      dtype='object')"
      ]
     },
     "execution_count": 69,
     "metadata": {},
     "output_type": "execute_result"
    }
   ],
   "source": [
    "df.columns "
   ]
  },
  {
   "cell_type": "code",
   "execution_count": 89,
   "id": "4e26b82c",
   "metadata": {},
   "outputs": [
    {
     "data": {
      "text/plain": [
       "True     200236\n",
       "False     27392\n",
       "Name: trial_completed, dtype: int64"
      ]
     },
     "execution_count": 89,
     "metadata": {},
     "output_type": "execute_result"
    }
   ],
   "source": [
    "# 200236 users completed the trial without cancellation\n",
    "# 27392 users completed the trial and cancelled \n",
    "df.trial_completed.value_counts()"
   ]
  },
  {
   "cell_type": "code",
   "execution_count": null,
   "id": "dc1d61ad",
   "metadata": {},
   "outputs": [],
   "source": []
  },
  {
   "cell_type": "code",
   "execution_count": null,
   "id": "b46938a2",
   "metadata": {},
   "outputs": [],
   "source": []
  },
  {
   "cell_type": "code",
   "execution_count": null,
   "id": "a372a82d",
   "metadata": {},
   "outputs": [],
   "source": []
  },
  {
   "cell_type": "code",
   "execution_count": null,
   "id": "59fc264c",
   "metadata": {},
   "outputs": [],
   "source": [
    "# categoricsl featrue \n",
    "'package_type','num_weekly_services_utilized','preferred_genre',\n",
    "'intended_use','num_ideal_streaming_services','male_TF','attribution_technical',\n"
   ]
  },
  {
   "cell_type": "code",
   "execution_count": null,
   "id": "facb65a8",
   "metadata": {},
   "outputs": [],
   "source": [
    "# continuous feature\n",
    "weekly_consumption_hour,age"
   ]
  },
  {
   "cell_type": "code",
   "execution_count": null,
   "id": "77a3fcad",
   "metadata": {},
   "outputs": [],
   "source": [
    "# drop\n",
    "country (only UAE)\n",
    "subid"
   ]
  },
  {
   "cell_type": "code",
   "execution_count": null,
   "id": "e0083f94",
   "metadata": {},
   "outputs": [],
   "source": [
    "df = pd.get_dummies(df,columns = [])\n",
    "df"
   ]
  },
  {
   "cell_type": "code",
   "execution_count": null,
   "id": "56eb2540",
   "metadata": {},
   "outputs": [],
   "source": []
  },
  {
   "cell_type": "code",
   "execution_count": null,
   "id": "b7afaf81",
   "metadata": {},
   "outputs": [],
   "source": []
  },
  {
   "cell_type": "markdown",
   "id": "3070d37b",
   "metadata": {},
   "source": [
    "## 2. channel_spend_graduate"
   ]
  },
  {
   "cell_type": "code",
   "execution_count": 109,
   "id": "13d97672",
   "metadata": {},
   "outputs": [
    {
     "data": {
      "text/html": [
       "<div>\n",
       "<style scoped>\n",
       "    .dataframe tbody tr th:only-of-type {\n",
       "        vertical-align: middle;\n",
       "    }\n",
       "\n",
       "    .dataframe tbody tr th {\n",
       "        vertical-align: top;\n",
       "    }\n",
       "\n",
       "    .dataframe thead th {\n",
       "        text-align: right;\n",
       "    }\n",
       "</style>\n",
       "<table border=\"1\" class=\"dataframe\">\n",
       "  <thead>\n",
       "    <tr style=\"text-align: right;\">\n",
       "      <th></th>\n",
       "      <th>date</th>\n",
       "      <th>facebook</th>\n",
       "      <th>email</th>\n",
       "      <th>search</th>\n",
       "      <th>brand sem intent google</th>\n",
       "      <th>affiliate</th>\n",
       "      <th>email_blast</th>\n",
       "      <th>pinterest</th>\n",
       "      <th>referral</th>\n",
       "    </tr>\n",
       "  </thead>\n",
       "  <tbody>\n",
       "    <tr>\n",
       "      <th>0</th>\n",
       "      <td>2019-06-30</td>\n",
       "      <td>84800</td>\n",
       "      <td>75000</td>\n",
       "      <td>17300</td>\n",
       "      <td>21400</td>\n",
       "      <td>11900</td>\n",
       "      <td>10500</td>\n",
       "      <td>5900</td>\n",
       "      <td>6100</td>\n",
       "    </tr>\n",
       "    <tr>\n",
       "      <th>1</th>\n",
       "      <td>2019-07-31</td>\n",
       "      <td>60000</td>\n",
       "      <td>75600</td>\n",
       "      <td>17300</td>\n",
       "      <td>21300</td>\n",
       "      <td>12000</td>\n",
       "      <td>29800</td>\n",
       "      <td>6000</td>\n",
       "      <td>6600</td>\n",
       "    </tr>\n",
       "    <tr>\n",
       "      <th>2</th>\n",
       "      <td>2019-08-31</td>\n",
       "      <td>52300</td>\n",
       "      <td>76100</td>\n",
       "      <td>18100</td>\n",
       "      <td>21300</td>\n",
       "      <td>16300</td>\n",
       "      <td>65900</td>\n",
       "      <td>6200</td>\n",
       "      <td>6800</td>\n",
       "    </tr>\n",
       "    <tr>\n",
       "      <th>3</th>\n",
       "      <td>2019-09-30</td>\n",
       "      <td>49000</td>\n",
       "      <td>75800</td>\n",
       "      <td>18900</td>\n",
       "      <td>21300</td>\n",
       "      <td>16400</td>\n",
       "      <td>73700</td>\n",
       "      <td>6000</td>\n",
       "      <td>7400</td>\n",
       "    </tr>\n",
       "    <tr>\n",
       "      <th>4</th>\n",
       "      <td>2019-10-31</td>\n",
       "      <td>51300</td>\n",
       "      <td>76000</td>\n",
       "      <td>21000</td>\n",
       "      <td>21400</td>\n",
       "      <td>12200</td>\n",
       "      <td>32300</td>\n",
       "      <td>6700</td>\n",
       "      <td>7300</td>\n",
       "    </tr>\n",
       "    <tr>\n",
       "      <th>5</th>\n",
       "      <td>2019-11-30</td>\n",
       "      <td>56100</td>\n",
       "      <td>75900</td>\n",
       "      <td>21400</td>\n",
       "      <td>21600</td>\n",
       "      <td>11700</td>\n",
       "      <td>9800</td>\n",
       "      <td>6300</td>\n",
       "      <td>7300</td>\n",
       "    </tr>\n",
       "    <tr>\n",
       "      <th>6</th>\n",
       "      <td>2019-12-31</td>\n",
       "      <td>51400</td>\n",
       "      <td>76100</td>\n",
       "      <td>32100</td>\n",
       "      <td>22200</td>\n",
       "      <td>12100</td>\n",
       "      <td>3500</td>\n",
       "      <td>7200</td>\n",
       "      <td>8000</td>\n",
       "    </tr>\n",
       "    <tr>\n",
       "      <th>7</th>\n",
       "      <td>2020-01-31</td>\n",
       "      <td>49000</td>\n",
       "      <td>75500</td>\n",
       "      <td>33600</td>\n",
       "      <td>22700</td>\n",
       "      <td>14300</td>\n",
       "      <td>300</td>\n",
       "      <td>6700</td>\n",
       "      <td>7400</td>\n",
       "    </tr>\n",
       "    <tr>\n",
       "      <th>8</th>\n",
       "      <td>2020-02-29</td>\n",
       "      <td>49700</td>\n",
       "      <td>76600</td>\n",
       "      <td>30100</td>\n",
       "      <td>21700</td>\n",
       "      <td>15000</td>\n",
       "      <td>300</td>\n",
       "      <td>6400</td>\n",
       "      <td>6500</td>\n",
       "    </tr>\n",
       "    <tr>\n",
       "      <th>9</th>\n",
       "      <td>2020-03-31</td>\n",
       "      <td>49100</td>\n",
       "      <td>78000</td>\n",
       "      <td>22700</td>\n",
       "      <td>21200</td>\n",
       "      <td>17600</td>\n",
       "      <td>300</td>\n",
       "      <td>5900</td>\n",
       "      <td>10000</td>\n",
       "    </tr>\n",
       "  </tbody>\n",
       "</table>\n",
       "</div>"
      ],
      "text/plain": [
       "        date  facebook  email  search  brand sem intent google  affiliate  \\\n",
       "0 2019-06-30     84800  75000   17300                    21400      11900   \n",
       "1 2019-07-31     60000  75600   17300                    21300      12000   \n",
       "2 2019-08-31     52300  76100   18100                    21300      16300   \n",
       "3 2019-09-30     49000  75800   18900                    21300      16400   \n",
       "4 2019-10-31     51300  76000   21000                    21400      12200   \n",
       "5 2019-11-30     56100  75900   21400                    21600      11700   \n",
       "6 2019-12-31     51400  76100   32100                    22200      12100   \n",
       "7 2020-01-31     49000  75500   33600                    22700      14300   \n",
       "8 2020-02-29     49700  76600   30100                    21700      15000   \n",
       "9 2020-03-31     49100  78000   22700                    21200      17600   \n",
       "\n",
       "   email_blast  pinterest  referral  \n",
       "0        10500       5900      6100  \n",
       "1        29800       6000      6600  \n",
       "2        65900       6200      6800  \n",
       "3        73700       6000      7400  \n",
       "4        32300       6700      7300  \n",
       "5         9800       6300      7300  \n",
       "6         3500       7200      8000  \n",
       "7          300       6700      7400  \n",
       "8          300       6400      6500  \n",
       "9          300       5900     10000  "
      ]
     },
     "execution_count": 109,
     "metadata": {},
     "output_type": "execute_result"
    }
   ],
   "source": [
    "df_spend = pd.read_excel('advertising_spend_data.xlsx')\n",
    "df_spend"
   ]
  },
  {
   "cell_type": "code",
   "execution_count": 110,
   "id": "de39a2ef",
   "metadata": {},
   "outputs": [
    {
     "data": {
      "text/plain": [
       "Index(['date', 'facebook', 'email', 'search', 'brand sem intent google',\n",
       "       'affiliate', 'email_blast', 'pinterest', 'referral'],\n",
       "      dtype='object')"
      ]
     },
     "execution_count": 110,
     "metadata": {},
     "output_type": "execute_result"
    }
   ],
   "source": [
    "df_spend.columns"
   ]
  },
  {
   "cell_type": "code",
   "execution_count": null,
   "id": "c0cca0b7",
   "metadata": {},
   "outputs": [],
   "source": []
  },
  {
   "cell_type": "markdown",
   "id": "298c7dbc",
   "metadata": {},
   "source": [
    "## 3. engagement"
   ]
  },
  {
   "cell_type": "code",
   "execution_count": 139,
   "id": "8e562782",
   "metadata": {},
   "outputs": [
    {
     "data": {
      "text/html": [
       "<div>\n",
       "<style scoped>\n",
       "    .dataframe tbody tr th:only-of-type {\n",
       "        vertical-align: middle;\n",
       "    }\n",
       "\n",
       "    .dataframe tbody tr th {\n",
       "        vertical-align: top;\n",
       "    }\n",
       "\n",
       "    .dataframe thead th {\n",
       "        text-align: right;\n",
       "    }\n",
       "</style>\n",
       "<table border=\"1\" class=\"dataframe\">\n",
       "  <thead>\n",
       "    <tr style=\"text-align: right;\">\n",
       "      <th></th>\n",
       "      <th>access_code</th>\n",
       "      <th>subscription_id</th>\n",
       "      <th>date</th>\n",
       "      <th>app_opens</th>\n",
       "      <th>coach_messages</th>\n",
       "      <th>content</th>\n",
       "      <th>content_assignments</th>\n",
       "      <th>exercises</th>\n",
       "      <th>food_logs</th>\n",
       "      <th>group_posts</th>\n",
       "      <th>weigh_ins</th>\n",
       "    </tr>\n",
       "  </thead>\n",
       "  <tbody>\n",
       "    <tr>\n",
       "      <th>0</th>\n",
       "      <td>1BBU7BJ2</td>\n",
       "      <td>14596788</td>\n",
       "      <td>2019-01-01</td>\n",
       "      <td>0</td>\n",
       "      <td>0</td>\n",
       "      <td>0</td>\n",
       "      <td>0</td>\n",
       "      <td>0</td>\n",
       "      <td>0</td>\n",
       "      <td>0</td>\n",
       "      <td>0</td>\n",
       "    </tr>\n",
       "    <tr>\n",
       "      <th>1</th>\n",
       "      <td>1FF4X7H9</td>\n",
       "      <td>14629614</td>\n",
       "      <td>2019-01-01</td>\n",
       "      <td>1</td>\n",
       "      <td>0</td>\n",
       "      <td>7</td>\n",
       "      <td>7</td>\n",
       "      <td>0</td>\n",
       "      <td>0</td>\n",
       "      <td>0</td>\n",
       "      <td>0</td>\n",
       "    </tr>\n",
       "    <tr>\n",
       "      <th>2</th>\n",
       "      <td>1FF4X7H9</td>\n",
       "      <td>14629614</td>\n",
       "      <td>2019-01-02</td>\n",
       "      <td>0</td>\n",
       "      <td>1</td>\n",
       "      <td>0</td>\n",
       "      <td>0</td>\n",
       "      <td>0</td>\n",
       "      <td>0</td>\n",
       "      <td>0</td>\n",
       "      <td>0</td>\n",
       "    </tr>\n",
       "    <tr>\n",
       "      <th>3</th>\n",
       "      <td>1GN3P4WZ</td>\n",
       "      <td>14668350</td>\n",
       "      <td>2019-01-02</td>\n",
       "      <td>1</td>\n",
       "      <td>1</td>\n",
       "      <td>0</td>\n",
       "      <td>6</td>\n",
       "      <td>0</td>\n",
       "      <td>0</td>\n",
       "      <td>0</td>\n",
       "      <td>0</td>\n",
       "    </tr>\n",
       "    <tr>\n",
       "      <th>4</th>\n",
       "      <td>1GN3P4WZ</td>\n",
       "      <td>14668350</td>\n",
       "      <td>2019-01-03</td>\n",
       "      <td>1</td>\n",
       "      <td>0</td>\n",
       "      <td>0</td>\n",
       "      <td>5</td>\n",
       "      <td>0</td>\n",
       "      <td>0</td>\n",
       "      <td>0</td>\n",
       "      <td>0</td>\n",
       "    </tr>\n",
       "    <tr>\n",
       "      <th>...</th>\n",
       "      <td>...</td>\n",
       "      <td>...</td>\n",
       "      <td>...</td>\n",
       "      <td>...</td>\n",
       "      <td>...</td>\n",
       "      <td>...</td>\n",
       "      <td>...</td>\n",
       "      <td>...</td>\n",
       "      <td>...</td>\n",
       "      <td>...</td>\n",
       "      <td>...</td>\n",
       "    </tr>\n",
       "    <tr>\n",
       "      <th>13842998</th>\n",
       "      <td>ZTITVZRY</td>\n",
       "      <td>21413240</td>\n",
       "      <td>2019-10-21</td>\n",
       "      <td>2</td>\n",
       "      <td>1</td>\n",
       "      <td>0</td>\n",
       "      <td>5</td>\n",
       "      <td>0</td>\n",
       "      <td>0</td>\n",
       "      <td>0</td>\n",
       "      <td>0</td>\n",
       "    </tr>\n",
       "    <tr>\n",
       "      <th>13842999</th>\n",
       "      <td>ZTITVZRY</td>\n",
       "      <td>21413240</td>\n",
       "      <td>2019-10-22</td>\n",
       "      <td>2</td>\n",
       "      <td>0</td>\n",
       "      <td>0</td>\n",
       "      <td>5</td>\n",
       "      <td>0</td>\n",
       "      <td>0</td>\n",
       "      <td>0</td>\n",
       "      <td>0</td>\n",
       "    </tr>\n",
       "    <tr>\n",
       "      <th>13843000</th>\n",
       "      <td>ZTG1BA3B</td>\n",
       "      <td>21448505</td>\n",
       "      <td>2019-10-19</td>\n",
       "      <td>1</td>\n",
       "      <td>0</td>\n",
       "      <td>0</td>\n",
       "      <td>5</td>\n",
       "      <td>0</td>\n",
       "      <td>0</td>\n",
       "      <td>0</td>\n",
       "      <td>0</td>\n",
       "    </tr>\n",
       "    <tr>\n",
       "      <th>13843001</th>\n",
       "      <td>ZTG1BA3B</td>\n",
       "      <td>21448505</td>\n",
       "      <td>2019-10-28</td>\n",
       "      <td>1</td>\n",
       "      <td>2</td>\n",
       "      <td>0</td>\n",
       "      <td>4</td>\n",
       "      <td>1</td>\n",
       "      <td>1</td>\n",
       "      <td>0</td>\n",
       "      <td>1</td>\n",
       "    </tr>\n",
       "    <tr>\n",
       "      <th>13843002</th>\n",
       "      <td>ZTG1BA3B</td>\n",
       "      <td>21448505</td>\n",
       "      <td>2019-10-27</td>\n",
       "      <td>2</td>\n",
       "      <td>1</td>\n",
       "      <td>1</td>\n",
       "      <td>4</td>\n",
       "      <td>1</td>\n",
       "      <td>5</td>\n",
       "      <td>0</td>\n",
       "      <td>1</td>\n",
       "    </tr>\n",
       "  </tbody>\n",
       "</table>\n",
       "<p>13843003 rows × 11 columns</p>\n",
       "</div>"
      ],
      "text/plain": [
       "         access_code  subscription_id        date  app_opens  coach_messages  \\\n",
       "0           1BBU7BJ2         14596788  2019-01-01          0               0   \n",
       "1           1FF4X7H9         14629614  2019-01-01          1               0   \n",
       "2           1FF4X7H9         14629614  2019-01-02          0               1   \n",
       "3           1GN3P4WZ         14668350  2019-01-02          1               1   \n",
       "4           1GN3P4WZ         14668350  2019-01-03          1               0   \n",
       "...              ...              ...         ...        ...             ...   \n",
       "13842998    ZTITVZRY         21413240  2019-10-21          2               1   \n",
       "13842999    ZTITVZRY         21413240  2019-10-22          2               0   \n",
       "13843000    ZTG1BA3B         21448505  2019-10-19          1               0   \n",
       "13843001    ZTG1BA3B         21448505  2019-10-28          1               2   \n",
       "13843002    ZTG1BA3B         21448505  2019-10-27          2               1   \n",
       "\n",
       "          content  content_assignments  exercises  food_logs  group_posts  \\\n",
       "0               0                    0          0          0            0   \n",
       "1               7                    7          0          0            0   \n",
       "2               0                    0          0          0            0   \n",
       "3               0                    6          0          0            0   \n",
       "4               0                    5          0          0            0   \n",
       "...           ...                  ...        ...        ...          ...   \n",
       "13842998        0                    5          0          0            0   \n",
       "13842999        0                    5          0          0            0   \n",
       "13843000        0                    5          0          0            0   \n",
       "13843001        0                    4          1          1            0   \n",
       "13843002        1                    4          1          5            0   \n",
       "\n",
       "          weigh_ins  \n",
       "0                 0  \n",
       "1                 0  \n",
       "2                 0  \n",
       "3                 0  \n",
       "4                 0  \n",
       "...             ...  \n",
       "13842998          0  \n",
       "13842999          0  \n",
       "13843000          0  \n",
       "13843001          1  \n",
       "13843002          1  \n",
       "\n",
       "[13843003 rows x 11 columns]"
      ]
     },
     "execution_count": 139,
     "metadata": {},
     "output_type": "execute_result"
    }
   ],
   "source": [
    "df_eng = pd.read_csv('CQM_engagement_4mo_en.csv')\n",
    "df_eng"
   ]
  },
  {
   "cell_type": "code",
   "execution_count": 114,
   "id": "05f4d744",
   "metadata": {},
   "outputs": [
    {
     "data": {
      "text/plain": [
       "Index(['access_code', 'subscription_id', 'date', 'app_opens', 'coach_messages',\n",
       "       'content', 'content_assignments', 'exercises', 'food_logs',\n",
       "       'group_posts', 'weigh_ins'],\n",
       "      dtype='object')"
      ]
     },
     "execution_count": 114,
     "metadata": {},
     "output_type": "execute_result"
    }
   ],
   "source": [
    "df_eng.columns"
   ]
  },
  {
   "cell_type": "code",
   "execution_count": 142,
   "id": "5a5e2d13",
   "metadata": {},
   "outputs": [
    {
     "data": {
      "text/html": [
       "<div>\n",
       "<style scoped>\n",
       "    .dataframe tbody tr th:only-of-type {\n",
       "        vertical-align: middle;\n",
       "    }\n",
       "\n",
       "    .dataframe tbody tr th {\n",
       "        vertical-align: top;\n",
       "    }\n",
       "\n",
       "    .dataframe thead th {\n",
       "        text-align: right;\n",
       "    }\n",
       "</style>\n",
       "<table border=\"1\" class=\"dataframe\">\n",
       "  <thead>\n",
       "    <tr style=\"text-align: right;\">\n",
       "      <th></th>\n",
       "      <th>app_opens</th>\n",
       "      <th>coach_messages</th>\n",
       "      <th>content</th>\n",
       "      <th>content_assignments</th>\n",
       "      <th>exercises</th>\n",
       "      <th>food_logs</th>\n",
       "      <th>group_posts</th>\n",
       "      <th>weigh_ins</th>\n",
       "    </tr>\n",
       "    <tr>\n",
       "      <th>subscription_id</th>\n",
       "      <th></th>\n",
       "      <th></th>\n",
       "      <th></th>\n",
       "      <th></th>\n",
       "      <th></th>\n",
       "      <th></th>\n",
       "      <th></th>\n",
       "      <th></th>\n",
       "    </tr>\n",
       "  </thead>\n",
       "  <tbody>\n",
       "    <tr>\n",
       "      <th>14573952</th>\n",
       "      <td>0</td>\n",
       "      <td>2</td>\n",
       "      <td>0</td>\n",
       "      <td>0</td>\n",
       "      <td>0</td>\n",
       "      <td>0</td>\n",
       "      <td>0</td>\n",
       "      <td>0</td>\n",
       "    </tr>\n",
       "    <tr>\n",
       "      <th>14573955</th>\n",
       "      <td>96</td>\n",
       "      <td>12</td>\n",
       "      <td>120</td>\n",
       "      <td>242</td>\n",
       "      <td>43</td>\n",
       "      <td>123</td>\n",
       "      <td>4</td>\n",
       "      <td>52</td>\n",
       "    </tr>\n",
       "    <tr>\n",
       "      <th>14573964</th>\n",
       "      <td>11</td>\n",
       "      <td>5</td>\n",
       "      <td>43</td>\n",
       "      <td>61</td>\n",
       "      <td>0</td>\n",
       "      <td>40</td>\n",
       "      <td>0</td>\n",
       "      <td>10</td>\n",
       "    </tr>\n",
       "    <tr>\n",
       "      <th>14573976</th>\n",
       "      <td>13</td>\n",
       "      <td>1</td>\n",
       "      <td>13</td>\n",
       "      <td>45</td>\n",
       "      <td>0</td>\n",
       "      <td>36</td>\n",
       "      <td>0</td>\n",
       "      <td>4</td>\n",
       "    </tr>\n",
       "    <tr>\n",
       "      <th>14573985</th>\n",
       "      <td>1</td>\n",
       "      <td>2</td>\n",
       "      <td>6</td>\n",
       "      <td>6</td>\n",
       "      <td>0</td>\n",
       "      <td>2</td>\n",
       "      <td>0</td>\n",
       "      <td>0</td>\n",
       "    </tr>\n",
       "    <tr>\n",
       "      <th>...</th>\n",
       "      <td>...</td>\n",
       "      <td>...</td>\n",
       "      <td>...</td>\n",
       "      <td>...</td>\n",
       "      <td>...</td>\n",
       "      <td>...</td>\n",
       "      <td>...</td>\n",
       "      <td>...</td>\n",
       "    </tr>\n",
       "    <tr>\n",
       "      <th>21647162</th>\n",
       "      <td>97</td>\n",
       "      <td>6</td>\n",
       "      <td>68</td>\n",
       "      <td>74</td>\n",
       "      <td>12</td>\n",
       "      <td>67</td>\n",
       "      <td>0</td>\n",
       "      <td>15</td>\n",
       "    </tr>\n",
       "    <tr>\n",
       "      <th>21647171</th>\n",
       "      <td>5</td>\n",
       "      <td>2</td>\n",
       "      <td>19</td>\n",
       "      <td>28</td>\n",
       "      <td>4</td>\n",
       "      <td>11</td>\n",
       "      <td>0</td>\n",
       "      <td>5</td>\n",
       "    </tr>\n",
       "    <tr>\n",
       "      <th>21647180</th>\n",
       "      <td>26</td>\n",
       "      <td>10</td>\n",
       "      <td>97</td>\n",
       "      <td>128</td>\n",
       "      <td>2</td>\n",
       "      <td>90</td>\n",
       "      <td>4</td>\n",
       "      <td>21</td>\n",
       "    </tr>\n",
       "    <tr>\n",
       "      <th>21647183</th>\n",
       "      <td>6</td>\n",
       "      <td>5</td>\n",
       "      <td>3</td>\n",
       "      <td>34</td>\n",
       "      <td>0</td>\n",
       "      <td>0</td>\n",
       "      <td>0</td>\n",
       "      <td>0</td>\n",
       "    </tr>\n",
       "    <tr>\n",
       "      <th>21647186</th>\n",
       "      <td>9</td>\n",
       "      <td>6</td>\n",
       "      <td>36</td>\n",
       "      <td>50</td>\n",
       "      <td>0</td>\n",
       "      <td>20</td>\n",
       "      <td>0</td>\n",
       "      <td>7</td>\n",
       "    </tr>\n",
       "  </tbody>\n",
       "</table>\n",
       "<p>479000 rows × 8 columns</p>\n",
       "</div>"
      ],
      "text/plain": [
       "                 app_opens  coach_messages  content  content_assignments  \\\n",
       "subscription_id                                                            \n",
       "14573952                 0               2        0                    0   \n",
       "14573955                96              12      120                  242   \n",
       "14573964                11               5       43                   61   \n",
       "14573976                13               1       13                   45   \n",
       "14573985                 1               2        6                    6   \n",
       "...                    ...             ...      ...                  ...   \n",
       "21647162                97               6       68                   74   \n",
       "21647171                 5               2       19                   28   \n",
       "21647180                26              10       97                  128   \n",
       "21647183                 6               5        3                   34   \n",
       "21647186                 9               6       36                   50   \n",
       "\n",
       "                 exercises  food_logs  group_posts  weigh_ins  \n",
       "subscription_id                                                \n",
       "14573952                 0          0            0          0  \n",
       "14573955                43        123            4         52  \n",
       "14573964                 0         40            0         10  \n",
       "14573976                 0         36            0          4  \n",
       "14573985                 0          2            0          0  \n",
       "...                    ...        ...          ...        ...  \n",
       "21647162                12         67            0         15  \n",
       "21647171                 4         11            0          5  \n",
       "21647180                 2         90            4         21  \n",
       "21647183                 0          0            0          0  \n",
       "21647186                 0         20            0          7  \n",
       "\n",
       "[479000 rows x 8 columns]"
      ]
     },
     "execution_count": 142,
     "metadata": {},
     "output_type": "execute_result"
    }
   ],
   "source": [
    "engagement = pd.pivot_table(df_eng, index = ['subscription_id'],\n",
    "                            values = ['app_opens','coach_messages',\n",
    "                                     'content','content_assignments',\n",
    "                                      'exercises','food_logs','group_posts',\n",
    "                                     'weigh_ins'],aggfunc= 'sum')\n",
    "engagement"
   ]
  },
  {
   "cell_type": "code",
   "execution_count": null,
   "id": "b6ba6be7",
   "metadata": {},
   "outputs": [],
   "source": []
  },
  {
   "cell_type": "code",
   "execution_count": null,
   "id": "a850cfd3",
   "metadata": {},
   "outputs": [],
   "source": []
  },
  {
   "cell_type": "code",
   "execution_count": null,
   "id": "d6d31ac7",
   "metadata": {},
   "outputs": [],
   "source": []
  },
  {
   "cell_type": "code",
   "execution_count": null,
   "id": "b8799a5d",
   "metadata": {},
   "outputs": [],
   "source": []
  }
 ],
 "metadata": {
  "kernelspec": {
   "display_name": "Python 3",
   "language": "python",
   "name": "python3"
  },
  "language_info": {
   "codemirror_mode": {
    "name": "ipython",
    "version": 3
   },
   "file_extension": ".py",
   "mimetype": "text/x-python",
   "name": "python",
   "nbconvert_exporter": "python",
   "pygments_lexer": "ipython3",
   "version": "3.8.8"
  }
 },
 "nbformat": 4,
 "nbformat_minor": 5
}
